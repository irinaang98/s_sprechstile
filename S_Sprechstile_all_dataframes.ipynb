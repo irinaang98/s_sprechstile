{
 "cells": [
  {
   "cell_type": "markdown",
   "id": "2d02fdea",
   "metadata": {},
   "source": [
    "# Seminar Sprechstile - maschinelle Eigenschaften \n",
    "\n",
    "\n",
    "### Collect data frames from all participants and analyse them"
   ]
  },
  {
   "cell_type": "markdown",
   "id": "89b9e9ed",
   "metadata": {},
   "source": [
    "**-Imports**"
   ]
  },
  {
   "cell_type": "code",
   "execution_count": 1,
   "id": "34ccb91f",
   "metadata": {},
   "outputs": [],
   "source": [
    "import os #for interacting with the operating system - for example reading files from our computer \n",
    "import glob  #module finds all the pathnames matching a specified pattern according to the rules used by the Unix shell\n",
    "import numpy as np #module for using mathematical and numerical functions \n",
    "import pandas as pd #library for data analysis\n",
    "import matplotlib.pyplot as plt #for generating boxplots \n",
    "import seaborn as sns  #another data visualization library based on matplotlib\n",
    "from sklearn.manifold import TSNE #for generating a t-distributed stochastic neighbor embedding (t-SNE) plot"
   ]
  },
  {
   "cell_type": "code",
   "execution_count": 2,
   "id": "f3d05706",
   "metadata": {},
   "outputs": [],
   "source": [
    "#! pip list "
   ]
  },
  {
   "cell_type": "code",
   "execution_count": 3,
   "id": "f27567aa",
   "metadata": {},
   "outputs": [],
   "source": [
    "in_directory = './dataframes/' #the directory where all the zip files are stored, containing the measured characteristics of the voice "
   ]
  },
  {
   "cell_type": "markdown",
   "id": "d26224e6",
   "metadata": {},
   "source": [
    "**-Create a collective data frame with all the zip files from folder**"
   ]
  },
  {
   "cell_type": "code",
   "execution_count": 4,
   "id": "6d6c25de",
   "metadata": {},
   "outputs": [],
   "source": [
    "if not os.path.isfile('all_participants_data.pkl'):\n",
    "\n",
    "    df = pd.DataFrame()\n",
    "    for file in glob.glob(in_directory+'*.pkl'):\n",
    "        print(file)\n",
    "        df_tmp = pd.read_pickle(file)\n",
    "        df = df.append(df_tmp)\n",
    "    df.to_pickle('all_participants_data.pkl')\n",
    "else:\n",
    "    df = pd.read_pickle('all_participants_data.pkl')"
   ]
  },
  {
   "cell_type": "markdown",
   "id": "ae01fae3",
   "metadata": {},
   "source": [
    "**-Discretize valence** - sometimes you may have a quantitative variable in your data set and you might want to discretize it or bin it or categorize it based on the values of the variable. In our case, we discretize the values of the valence with borders of 3 and 4 (this means, that the segments with valence higher than 3 will get the value 1 and the segments with valence lower than or equal to 3 will get the value 0 - second column in the dataframe)"
   ]
  },
  {
   "cell_type": "code",
   "execution_count": 5,
   "id": "393ff074",
   "metadata": {},
   "outputs": [],
   "source": [
    "df. insert(1, 'val_bin', -1)\n",
    "df['val_bin'] = np.digitize (df.valence.values, [0,4,6])-1"
   ]
  },
  {
   "cell_type": "code",
   "execution_count": 6,
   "id": "97b0b30a",
   "metadata": {},
   "outputs": [],
   "source": [
    "#df.shape"
   ]
  },
  {
   "cell_type": "code",
   "execution_count": 7,
   "id": "29d06533",
   "metadata": {},
   "outputs": [
    {
     "data": {
      "text/html": [
       "<div>\n",
       "<style scoped>\n",
       "    .dataframe tbody tr th:only-of-type {\n",
       "        vertical-align: middle;\n",
       "    }\n",
       "\n",
       "    .dataframe tbody tr th {\n",
       "        vertical-align: top;\n",
       "    }\n",
       "\n",
       "    .dataframe thead th {\n",
       "        text-align: right;\n",
       "    }\n",
       "</style>\n",
       "<table border=\"1\" class=\"dataframe\">\n",
       "  <thead>\n",
       "    <tr style=\"text-align: right;\">\n",
       "      <th></th>\n",
       "      <th>valence</th>\n",
       "      <th>val_bin</th>\n",
       "      <th>speaker</th>\n",
       "      <th>sex</th>\n",
       "      <th>duration</th>\n",
       "      <th>meanF0Hz</th>\n",
       "      <th>stdevF0Hz</th>\n",
       "      <th>HNR</th>\n",
       "      <th>localJitter</th>\n",
       "      <th>localabsoluteJitter</th>\n",
       "      <th>...</th>\n",
       "      <th>f4_median</th>\n",
       "      <th>pF</th>\n",
       "      <th>fdisp</th>\n",
       "      <th>avgFormant</th>\n",
       "      <th>mff</th>\n",
       "      <th>fitch_vtl</th>\n",
       "      <th>delta_f</th>\n",
       "      <th>vtl_delta_f</th>\n",
       "      <th>JitterPCA</th>\n",
       "      <th>ShimmerPCA</th>\n",
       "    </tr>\n",
       "    <tr>\n",
       "      <th>file</th>\n",
       "      <th></th>\n",
       "      <th></th>\n",
       "      <th></th>\n",
       "      <th></th>\n",
       "      <th></th>\n",
       "      <th></th>\n",
       "      <th></th>\n",
       "      <th></th>\n",
       "      <th></th>\n",
       "      <th></th>\n",
       "      <th></th>\n",
       "      <th></th>\n",
       "      <th></th>\n",
       "      <th></th>\n",
       "      <th></th>\n",
       "      <th></th>\n",
       "      <th></th>\n",
       "      <th></th>\n",
       "      <th></th>\n",
       "      <th></th>\n",
       "      <th></th>\n",
       "    </tr>\n",
       "  </thead>\n",
       "  <tbody>\n",
       "    <tr>\n",
       "      <th>Angehelescu_16_seg_00000000.wav</th>\n",
       "      <td>4.0</td>\n",
       "      <td>1</td>\n",
       "      <td>irina</td>\n",
       "      <td>female</td>\n",
       "      <td>4.28</td>\n",
       "      <td>253.775735</td>\n",
       "      <td>21.862605</td>\n",
       "      <td>9.477288</td>\n",
       "      <td>0.020626</td>\n",
       "      <td>0.000081</td>\n",
       "      <td>...</td>\n",
       "      <td>3890.653335</td>\n",
       "      <td>0.034499</td>\n",
       "      <td>1128.602727</td>\n",
       "      <td>2189.947411</td>\n",
       "      <td>1724.099350</td>\n",
       "      <td>16.258670</td>\n",
       "      <td>1100.541549</td>\n",
       "      <td>15.901262</td>\n",
       "      <td>NaN</td>\n",
       "      <td>NaN</td>\n",
       "    </tr>\n",
       "    <tr>\n",
       "      <th>Angehelescu_16_seg_00000001.wav</th>\n",
       "      <td>4.0</td>\n",
       "      <td>1</td>\n",
       "      <td>irina</td>\n",
       "      <td>female</td>\n",
       "      <td>5.96</td>\n",
       "      <td>230.974964</td>\n",
       "      <td>39.822558</td>\n",
       "      <td>9.240131</td>\n",
       "      <td>0.024346</td>\n",
       "      <td>0.000106</td>\n",
       "      <td>...</td>\n",
       "      <td>3865.271638</td>\n",
       "      <td>0.197979</td>\n",
       "      <td>1096.403603</td>\n",
       "      <td>2208.987168</td>\n",
       "      <td>1788.838185</td>\n",
       "      <td>15.664861</td>\n",
       "      <td>1099.272751</td>\n",
       "      <td>15.919616</td>\n",
       "      <td>NaN</td>\n",
       "      <td>NaN</td>\n",
       "    </tr>\n",
       "    <tr>\n",
       "      <th>Angehelescu_16_seg_00000002.wav</th>\n",
       "      <td>4.0</td>\n",
       "      <td>1</td>\n",
       "      <td>irina</td>\n",
       "      <td>female</td>\n",
       "      <td>6.96</td>\n",
       "      <td>217.720590</td>\n",
       "      <td>40.656277</td>\n",
       "      <td>11.302664</td>\n",
       "      <td>0.017945</td>\n",
       "      <td>0.000082</td>\n",
       "      <td>...</td>\n",
       "      <td>3863.210498</td>\n",
       "      <td>-0.734963</td>\n",
       "      <td>1124.081020</td>\n",
       "      <td>2132.891562</td>\n",
       "      <td>1672.220935</td>\n",
       "      <td>16.765487</td>\n",
       "      <td>1076.734110</td>\n",
       "      <td>16.252852</td>\n",
       "      <td>NaN</td>\n",
       "      <td>NaN</td>\n",
       "    </tr>\n",
       "    <tr>\n",
       "      <th>Angehelescu_16_seg_00000003.wav</th>\n",
       "      <td>4.0</td>\n",
       "      <td>1</td>\n",
       "      <td>irina</td>\n",
       "      <td>female</td>\n",
       "      <td>6.96</td>\n",
       "      <td>223.013685</td>\n",
       "      <td>40.045658</td>\n",
       "      <td>10.033796</td>\n",
       "      <td>0.016122</td>\n",
       "      <td>0.000072</td>\n",
       "      <td>...</td>\n",
       "      <td>3889.489510</td>\n",
       "      <td>0.230677</td>\n",
       "      <td>1098.321195</td>\n",
       "      <td>2211.255038</td>\n",
       "      <td>1798.267563</td>\n",
       "      <td>15.587988</td>\n",
       "      <td>1100.690985</td>\n",
       "      <td>15.899104</td>\n",
       "      <td>NaN</td>\n",
       "      <td>NaN</td>\n",
       "    </tr>\n",
       "    <tr>\n",
       "      <th>Angehelescu_16_seg_00000004.wav</th>\n",
       "      <td>3.0</td>\n",
       "      <td>0</td>\n",
       "      <td>irina</td>\n",
       "      <td>female</td>\n",
       "      <td>1.66</td>\n",
       "      <td>232.001187</td>\n",
       "      <td>25.032989</td>\n",
       "      <td>14.639509</td>\n",
       "      <td>0.014489</td>\n",
       "      <td>0.000063</td>\n",
       "      <td>...</td>\n",
       "      <td>3878.346306</td>\n",
       "      <td>0.210506</td>\n",
       "      <td>1122.512046</td>\n",
       "      <td>2203.411591</td>\n",
       "      <td>1740.302593</td>\n",
       "      <td>16.106597</td>\n",
       "      <td>1104.395672</td>\n",
       "      <td>15.845770</td>\n",
       "      <td>NaN</td>\n",
       "      <td>NaN</td>\n",
       "    </tr>\n",
       "    <tr>\n",
       "      <th>...</th>\n",
       "      <td>...</td>\n",
       "      <td>...</td>\n",
       "      <td>...</td>\n",
       "      <td>...</td>\n",
       "      <td>...</td>\n",
       "      <td>...</td>\n",
       "      <td>...</td>\n",
       "      <td>...</td>\n",
       "      <td>...</td>\n",
       "      <td>...</td>\n",
       "      <td>...</td>\n",
       "      <td>...</td>\n",
       "      <td>...</td>\n",
       "      <td>...</td>\n",
       "      <td>...</td>\n",
       "      <td>...</td>\n",
       "      <td>...</td>\n",
       "      <td>...</td>\n",
       "      <td>...</td>\n",
       "      <td>...</td>\n",
       "      <td>...</td>\n",
       "    </tr>\n",
       "    <tr>\n",
       "      <th>Wendel_16_seg_00000007.wav</th>\n",
       "      <td>2.0</td>\n",
       "      <td>0</td>\n",
       "      <td>tobias</td>\n",
       "      <td>male</td>\n",
       "      <td>4.30</td>\n",
       "      <td>153.682933</td>\n",
       "      <td>39.344422</td>\n",
       "      <td>12.624415</td>\n",
       "      <td>0.032414</td>\n",
       "      <td>0.000211</td>\n",
       "      <td>...</td>\n",
       "      <td>3652.273915</td>\n",
       "      <td>0.086076</td>\n",
       "      <td>1112.833503</td>\n",
       "      <td>1917.013837</td>\n",
       "      <td>1390.291352</td>\n",
       "      <td>20.553176</td>\n",
       "      <td>988.157898</td>\n",
       "      <td>17.709720</td>\n",
       "      <td>-5.121814</td>\n",
       "      <td>-1.247096</td>\n",
       "    </tr>\n",
       "    <tr>\n",
       "      <th>Wendel_16_seg_00000009.wav</th>\n",
       "      <td>2.0</td>\n",
       "      <td>0</td>\n",
       "      <td>tobias</td>\n",
       "      <td>male</td>\n",
       "      <td>3.14</td>\n",
       "      <td>140.538821</td>\n",
       "      <td>15.195603</td>\n",
       "      <td>12.558628</td>\n",
       "      <td>0.020297</td>\n",
       "      <td>0.000144</td>\n",
       "      <td>...</td>\n",
       "      <td>3459.587405</td>\n",
       "      <td>-0.521915</td>\n",
       "      <td>1042.857640</td>\n",
       "      <td>1869.109837</td>\n",
       "      <td>1389.768915</td>\n",
       "      <td>20.434564</td>\n",
       "      <td>953.248368</td>\n",
       "      <td>18.358280</td>\n",
       "      <td>-1.024843</td>\n",
       "      <td>0.660744</td>\n",
       "    </tr>\n",
       "    <tr>\n",
       "      <th>Wendel_16_seg_00000026.wav</th>\n",
       "      <td>2.0</td>\n",
       "      <td>0</td>\n",
       "      <td>tobias</td>\n",
       "      <td>male</td>\n",
       "      <td>6.96</td>\n",
       "      <td>153.381980</td>\n",
       "      <td>23.320519</td>\n",
       "      <td>14.541369</td>\n",
       "      <td>0.025381</td>\n",
       "      <td>0.000166</td>\n",
       "      <td>...</td>\n",
       "      <td>3682.669795</td>\n",
       "      <td>-0.399921</td>\n",
       "      <td>1135.312944</td>\n",
       "      <td>1866.559859</td>\n",
       "      <td>1312.144250</td>\n",
       "      <td>21.999624</td>\n",
       "      <td>973.737658</td>\n",
       "      <td>17.971986</td>\n",
       "      <td>-1.890634</td>\n",
       "      <td>-1.415276</td>\n",
       "    </tr>\n",
       "    <tr>\n",
       "      <th>Wendel_16_seg_00000036.wav</th>\n",
       "      <td>4.0</td>\n",
       "      <td>1</td>\n",
       "      <td>tobias</td>\n",
       "      <td>male</td>\n",
       "      <td>2.40</td>\n",
       "      <td>140.235610</td>\n",
       "      <td>22.483768</td>\n",
       "      <td>11.834323</td>\n",
       "      <td>0.019280</td>\n",
       "      <td>0.000137</td>\n",
       "      <td>...</td>\n",
       "      <td>3685.333577</td>\n",
       "      <td>0.382342</td>\n",
       "      <td>1089.217501</td>\n",
       "      <td>1934.722407</td>\n",
       "      <td>1486.437237</td>\n",
       "      <td>18.919587</td>\n",
       "      <td>987.833012</td>\n",
       "      <td>17.715545</td>\n",
       "      <td>0.600663</td>\n",
       "      <td>0.003548</td>\n",
       "    </tr>\n",
       "    <tr>\n",
       "      <th>Wendel_16_seg_00000037.wav</th>\n",
       "      <td>5.0</td>\n",
       "      <td>1</td>\n",
       "      <td>tobias</td>\n",
       "      <td>male</td>\n",
       "      <td>5.97</td>\n",
       "      <td>159.005903</td>\n",
       "      <td>24.550921</td>\n",
       "      <td>16.243705</td>\n",
       "      <td>0.017779</td>\n",
       "      <td>0.000112</td>\n",
       "      <td>...</td>\n",
       "      <td>3711.194389</td>\n",
       "      <td>0.099461</td>\n",
       "      <td>1138.286610</td>\n",
       "      <td>1920.230088</td>\n",
       "      <td>1373.110985</td>\n",
       "      <td>20.943302</td>\n",
       "      <td>993.318270</td>\n",
       "      <td>17.617717</td>\n",
       "      <td>1.104053</td>\n",
       "      <td>0.093264</td>\n",
       "    </tr>\n",
       "  </tbody>\n",
       "</table>\n",
       "<p>547 rows × 36 columns</p>\n",
       "</div>"
      ],
      "text/plain": [
       "                                 valence  val_bin speaker     sex  duration  \\\n",
       "file                                                                          \n",
       "Angehelescu_16_seg_00000000.wav      4.0        1   irina  female      4.28   \n",
       "Angehelescu_16_seg_00000001.wav      4.0        1   irina  female      5.96   \n",
       "Angehelescu_16_seg_00000002.wav      4.0        1   irina  female      6.96   \n",
       "Angehelescu_16_seg_00000003.wav      4.0        1   irina  female      6.96   \n",
       "Angehelescu_16_seg_00000004.wav      3.0        0   irina  female      1.66   \n",
       "...                                  ...      ...     ...     ...       ...   \n",
       "Wendel_16_seg_00000007.wav           2.0        0  tobias    male      4.30   \n",
       "Wendel_16_seg_00000009.wav           2.0        0  tobias    male      3.14   \n",
       "Wendel_16_seg_00000026.wav           2.0        0  tobias    male      6.96   \n",
       "Wendel_16_seg_00000036.wav           4.0        1  tobias    male      2.40   \n",
       "Wendel_16_seg_00000037.wav           5.0        1  tobias    male      5.97   \n",
       "\n",
       "                                   meanF0Hz  stdevF0Hz        HNR  \\\n",
       "file                                                                \n",
       "Angehelescu_16_seg_00000000.wav  253.775735  21.862605   9.477288   \n",
       "Angehelescu_16_seg_00000001.wav  230.974964  39.822558   9.240131   \n",
       "Angehelescu_16_seg_00000002.wav  217.720590  40.656277  11.302664   \n",
       "Angehelescu_16_seg_00000003.wav  223.013685  40.045658  10.033796   \n",
       "Angehelescu_16_seg_00000004.wav  232.001187  25.032989  14.639509   \n",
       "...                                     ...        ...        ...   \n",
       "Wendel_16_seg_00000007.wav       153.682933  39.344422  12.624415   \n",
       "Wendel_16_seg_00000009.wav       140.538821  15.195603  12.558628   \n",
       "Wendel_16_seg_00000026.wav       153.381980  23.320519  14.541369   \n",
       "Wendel_16_seg_00000036.wav       140.235610  22.483768  11.834323   \n",
       "Wendel_16_seg_00000037.wav       159.005903  24.550921  16.243705   \n",
       "\n",
       "                                 localJitter  localabsoluteJitter  ...  \\\n",
       "file                                                               ...   \n",
       "Angehelescu_16_seg_00000000.wav     0.020626             0.000081  ...   \n",
       "Angehelescu_16_seg_00000001.wav     0.024346             0.000106  ...   \n",
       "Angehelescu_16_seg_00000002.wav     0.017945             0.000082  ...   \n",
       "Angehelescu_16_seg_00000003.wav     0.016122             0.000072  ...   \n",
       "Angehelescu_16_seg_00000004.wav     0.014489             0.000063  ...   \n",
       "...                                      ...                  ...  ...   \n",
       "Wendel_16_seg_00000007.wav          0.032414             0.000211  ...   \n",
       "Wendel_16_seg_00000009.wav          0.020297             0.000144  ...   \n",
       "Wendel_16_seg_00000026.wav          0.025381             0.000166  ...   \n",
       "Wendel_16_seg_00000036.wav          0.019280             0.000137  ...   \n",
       "Wendel_16_seg_00000037.wav          0.017779             0.000112  ...   \n",
       "\n",
       "                                   f4_median        pF        fdisp  \\\n",
       "file                                                                  \n",
       "Angehelescu_16_seg_00000000.wav  3890.653335  0.034499  1128.602727   \n",
       "Angehelescu_16_seg_00000001.wav  3865.271638  0.197979  1096.403603   \n",
       "Angehelescu_16_seg_00000002.wav  3863.210498 -0.734963  1124.081020   \n",
       "Angehelescu_16_seg_00000003.wav  3889.489510  0.230677  1098.321195   \n",
       "Angehelescu_16_seg_00000004.wav  3878.346306  0.210506  1122.512046   \n",
       "...                                      ...       ...          ...   \n",
       "Wendel_16_seg_00000007.wav       3652.273915  0.086076  1112.833503   \n",
       "Wendel_16_seg_00000009.wav       3459.587405 -0.521915  1042.857640   \n",
       "Wendel_16_seg_00000026.wav       3682.669795 -0.399921  1135.312944   \n",
       "Wendel_16_seg_00000036.wav       3685.333577  0.382342  1089.217501   \n",
       "Wendel_16_seg_00000037.wav       3711.194389  0.099461  1138.286610   \n",
       "\n",
       "                                  avgFormant          mff  fitch_vtl  \\\n",
       "file                                                                   \n",
       "Angehelescu_16_seg_00000000.wav  2189.947411  1724.099350  16.258670   \n",
       "Angehelescu_16_seg_00000001.wav  2208.987168  1788.838185  15.664861   \n",
       "Angehelescu_16_seg_00000002.wav  2132.891562  1672.220935  16.765487   \n",
       "Angehelescu_16_seg_00000003.wav  2211.255038  1798.267563  15.587988   \n",
       "Angehelescu_16_seg_00000004.wav  2203.411591  1740.302593  16.106597   \n",
       "...                                      ...          ...        ...   \n",
       "Wendel_16_seg_00000007.wav       1917.013837  1390.291352  20.553176   \n",
       "Wendel_16_seg_00000009.wav       1869.109837  1389.768915  20.434564   \n",
       "Wendel_16_seg_00000026.wav       1866.559859  1312.144250  21.999624   \n",
       "Wendel_16_seg_00000036.wav       1934.722407  1486.437237  18.919587   \n",
       "Wendel_16_seg_00000037.wav       1920.230088  1373.110985  20.943302   \n",
       "\n",
       "                                     delta_f  vtl_delta_f  JitterPCA  \\\n",
       "file                                                                   \n",
       "Angehelescu_16_seg_00000000.wav  1100.541549    15.901262        NaN   \n",
       "Angehelescu_16_seg_00000001.wav  1099.272751    15.919616        NaN   \n",
       "Angehelescu_16_seg_00000002.wav  1076.734110    16.252852        NaN   \n",
       "Angehelescu_16_seg_00000003.wav  1100.690985    15.899104        NaN   \n",
       "Angehelescu_16_seg_00000004.wav  1104.395672    15.845770        NaN   \n",
       "...                                      ...          ...        ...   \n",
       "Wendel_16_seg_00000007.wav        988.157898    17.709720  -5.121814   \n",
       "Wendel_16_seg_00000009.wav        953.248368    18.358280  -1.024843   \n",
       "Wendel_16_seg_00000026.wav        973.737658    17.971986  -1.890634   \n",
       "Wendel_16_seg_00000036.wav        987.833012    17.715545   0.600663   \n",
       "Wendel_16_seg_00000037.wav        993.318270    17.617717   1.104053   \n",
       "\n",
       "                                 ShimmerPCA  \n",
       "file                                         \n",
       "Angehelescu_16_seg_00000000.wav         NaN  \n",
       "Angehelescu_16_seg_00000001.wav         NaN  \n",
       "Angehelescu_16_seg_00000002.wav         NaN  \n",
       "Angehelescu_16_seg_00000003.wav         NaN  \n",
       "Angehelescu_16_seg_00000004.wav         NaN  \n",
       "...                                     ...  \n",
       "Wendel_16_seg_00000007.wav        -1.247096  \n",
       "Wendel_16_seg_00000009.wav         0.660744  \n",
       "Wendel_16_seg_00000026.wav        -1.415276  \n",
       "Wendel_16_seg_00000036.wav         0.003548  \n",
       "Wendel_16_seg_00000037.wav         0.093264  \n",
       "\n",
       "[547 rows x 36 columns]"
      ]
     },
     "execution_count": 7,
     "metadata": {},
     "output_type": "execute_result"
    }
   ],
   "source": [
    "df"
   ]
  },
  {
   "cell_type": "code",
   "execution_count": 8,
   "id": "3631cd08",
   "metadata": {},
   "outputs": [
    {
     "data": {
      "text/plain": [
       "array(['irina', 'felix', 'lena', 'luise', 'saskia', 'lea', 'alicia',\n",
       "       'nina', 'jannis', 'Carolin-Antonia', 'sophie', 'lisa', 'tobias'],\n",
       "      dtype=object)"
      ]
     },
     "execution_count": 8,
     "metadata": {},
     "output_type": "execute_result"
    }
   ],
   "source": [
    "df.speaker.unique()"
   ]
  },
  {
   "cell_type": "markdown",
   "id": "688a0448",
   "metadata": {},
   "source": [
    "**-Analyse the data with different visualizations - valence**"
   ]
  },
  {
   "cell_type": "markdown",
   "id": "992305f9",
   "metadata": {},
   "source": [
    "Standard/default visualization"
   ]
  },
  {
   "cell_type": "code",
   "execution_count": 9,
   "id": "21b718c5",
   "metadata": {},
   "outputs": [
    {
     "data": {
      "text/plain": [
       "Text(0, 0.5, 'value counts')"
      ]
     },
     "execution_count": 9,
     "metadata": {},
     "output_type": "execute_result"
    },
    {
     "data": {
      "image/png": "[encoded data removed]",
      "text/plain": [
       "<Figure size 432x288 with 1 Axes>"
      ]
     },
     "metadata": {
      "needs_background": "light"
     },
     "output_type": "display_data"
    }
   ],
   "source": [
    "value_counts = df.valence.value_counts().plot()\n",
    "value_counts.set_xlabel('valence')\n",
    "value_counts.set_ylabel('value counts')\n"
   ]
  },
  {
   "cell_type": "markdown",
   "id": "b113f3e9",
   "metadata": {},
   "source": [
    "Bar diagram"
   ]
  },
  {
   "cell_type": "code",
   "execution_count": 10,
   "id": "1dc2ddf2",
   "metadata": {},
   "outputs": [
    {
     "data": {
      "text/plain": [
       "Text(0, 0.5, 'value counts')"
      ]
     },
     "execution_count": 10,
     "metadata": {},
     "output_type": "execute_result"
    },
    {
     "data": {
      "image/png": "[encoded data removed]",
      "text/plain": [
       "<Figure size 432x288 with 1 Axes>"
      ]
     },
     "metadata": {
      "needs_background": "light"
     },
     "output_type": "display_data"
    }
   ],
   "source": [
    "bar = df.valence.sort_index().value_counts().plot(kind='bar')\n",
    "bar.set_xlabel('valence')\n",
    "bar.set_ylabel('value counts')\n"
   ]
  },
  {
   "cell_type": "markdown",
   "id": "b96f7cc2",
   "metadata": {},
   "source": [
    "Pie chart"
   ]
  },
  {
   "cell_type": "code",
   "execution_count": 11,
   "id": "ff71319b",
   "metadata": {},
   "outputs": [
    {
     "data": {
      "text/plain": [
       "<AxesSubplot:ylabel='valence'>"
      ]
     },
     "execution_count": 11,
     "metadata": {},
     "output_type": "execute_result"
    },
    {
     "data": {
      "image/png": "[encoded data removed]",
      "text/plain": [
       "<Figure size 432x288 with 1 Axes>"
      ]
     },
     "metadata": {},
     "output_type": "display_data"
    }
   ],
   "source": [
    "df.valence.value_counts().plot(kind='pie')"
   ]
  },
  {
   "cell_type": "markdown",
   "id": "2423220a",
   "metadata": {},
   "source": [
    "**-Analyse the data with boxplots**"
   ]
  },
  {
   "cell_type": "markdown",
   "id": "5fe3a39a",
   "metadata": {},
   "source": [
    "Correlation between sex and fundamental frequency - it turns out that women have on average higher fundamental frequency than men; this can also be applied to the entire population"
   ]
  },
  {
   "cell_type": "code",
   "execution_count": 12,
   "id": "2e52a4b4",
   "metadata": {},
   "outputs": [
    {
     "data": {
      "image/png": "[encoded data removed]",
      "text/plain": [
       "<Figure size 432x288 with 1 Axes>"
      ]
     },
     "metadata": {
      "needs_background": "light"
     },
     "output_type": "display_data"
    }
   ],
   "source": [
    "df.boxplot(by ='sex', column = 'meanF0Hz', grid = False)\n",
    "plt.tight_layout() "
   ]
  },
  {
   "cell_type": "markdown",
   "id": "76e974a0",
   "metadata": {},
   "source": [
    "Correlation between sex and valence - there is no significant correlation, the valence of the segments is not dependent on the sex "
   ]
  },
  {
   "cell_type": "code",
   "execution_count": 13,
   "id": "c529aa5a",
   "metadata": {},
   "outputs": [
    {
     "data": {
      "image/png": "[encoded data removed]",
      "text/plain": [
       "<Figure size 432x288 with 1 Axes>"
      ]
     },
     "metadata": {
      "needs_background": "light"
     },
     "output_type": "display_data"
    }
   ],
   "source": [
    "df.boxplot(by ='sex', column = 'valence', grid = False)\n",
    "plt.tight_layout() "
   ]
  },
  {
   "cell_type": "markdown",
   "id": "9d7cde30",
   "metadata": {},
   "source": [
    "Correlation between fundamental frequency and valence - here you can see the tendency that the higher the basic frequency becomes, the higher the valence of the segment is, i.e. it has a more positive effect (higher value on the scale)"
   ]
  },
  {
   "cell_type": "code",
   "execution_count": 14,
   "id": "a88b9527",
   "metadata": {},
   "outputs": [
    {
     "data": {
      "image/png": "[encoded data removed]",
      "text/plain": [
       "<Figure size 432x288 with 1 Axes>"
      ]
     },
     "metadata": {
      "needs_background": "light"
     },
     "output_type": "display_data"
    }
   ],
   "source": [
    "df.boxplot(by ='valence', column = 'meanF0Hz', grid = False)\n",
    "plt.tight_layout() "
   ]
  },
  {
   "cell_type": "markdown",
   "id": "6554183f",
   "metadata": {},
   "source": [
    "**-Replace NANs with mean value**"
   ]
  },
  {
   "cell_type": "code",
   "execution_count": 15,
   "id": "17fee172",
   "metadata": {},
   "outputs": [
    {
     "name": "stdout",
     "output_type": "stream",
     "text": [
      "0\n",
      "duration\n",
      "\n",
      "duration includes 61 nan, I'll insert mean values\n",
      "1\n",
      "meanF0Hz\n",
      "\n",
      "meanF0Hz includes 61 nan, I'll insert mean values\n",
      "2\n",
      "stdevF0Hz\n",
      "\n",
      "stdevF0Hz includes 61 nan, I'll insert mean values\n",
      "3\n",
      "HNR\n",
      "\n",
      "HNR includes 61 nan, I'll insert mean values\n",
      "4\n",
      "localJitter\n",
      "\n",
      "localJitter includes 61 nan, I'll insert mean values\n",
      "5\n",
      "localabsoluteJitter\n",
      "\n",
      "localabsoluteJitter includes 61 nan, I'll insert mean values\n",
      "6\n",
      "rapJitter\n",
      "\n",
      "rapJitter includes 61 nan, I'll insert mean values\n",
      "7\n",
      "ppq5Jitter\n",
      "\n",
      "ppq5Jitter includes 61 nan, I'll insert mean values\n",
      "8\n",
      "ddpJitter\n",
      "\n",
      "ddpJitter includes 61 nan, I'll insert mean values\n",
      "9\n",
      "localShimmer\n",
      "\n",
      "localShimmer includes 61 nan, I'll insert mean values\n",
      "10\n",
      "localdbShimmer\n",
      "\n",
      "localdbShimmer includes 61 nan, I'll insert mean values\n",
      "11\n",
      "apq3Shimmer\n",
      "\n",
      "apq3Shimmer includes 62 nan, I'll insert mean values\n",
      "12\n",
      "apq5Shimmer\n",
      "\n",
      "apq5Shimmer includes 62 nan, I'll insert mean values\n",
      "13\n",
      "apq11Shimmer\n",
      "\n",
      "apq11Shimmer includes 64 nan, I'll insert mean values\n",
      "14\n",
      "ddaShimmer\n",
      "\n",
      "ddaShimmer includes 62 nan, I'll insert mean values\n",
      "15\n",
      "f1_mean\n",
      "\n",
      "f1_mean includes 61 nan, I'll insert mean values\n",
      "16\n",
      "f2_mean\n",
      "\n",
      "f2_mean includes 61 nan, I'll insert mean values\n",
      "17\n",
      "f3_mean\n",
      "\n",
      "f3_mean includes 61 nan, I'll insert mean values\n",
      "18\n",
      "f4_mean\n",
      "\n",
      "f4_mean includes 61 nan, I'll insert mean values\n",
      "19\n",
      "f1_median\n",
      "\n",
      "f1_median includes 61 nan, I'll insert mean values\n",
      "20\n",
      "f2_median\n",
      "\n",
      "f2_median includes 61 nan, I'll insert mean values\n",
      "21\n",
      "f3_median\n",
      "\n",
      "f3_median includes 61 nan, I'll insert mean values\n",
      "22\n",
      "f4_median\n",
      "\n",
      "f4_median includes 61 nan, I'll insert mean values\n",
      "23\n",
      "pF\n",
      "\n",
      "pF includes 61 nan, I'll insert mean values\n",
      "24\n",
      "fdisp\n",
      "\n",
      "fdisp includes 61 nan, I'll insert mean values\n",
      "25\n",
      "avgFormant\n",
      "\n",
      "avgFormant includes 61 nan, I'll insert mean values\n",
      "26\n",
      "mff\n",
      "\n",
      "mff includes 61 nan, I'll insert mean values\n",
      "27\n",
      "fitch_vtl\n",
      "\n",
      "fitch_vtl includes 61 nan, I'll insert mean values\n",
      "28\n",
      "delta_f\n",
      "\n",
      "delta_f includes 61 nan, I'll insert mean values\n",
      "29\n",
      "vtl_delta_f\n",
      "\n",
      "vtl_delta_f includes 61 nan, I'll insert mean values\n",
      "30\n",
      "JitterPCA\n",
      "\n",
      "JitterPCA includes 162 nan, I'll insert mean values\n",
      "31\n",
      "ShimmerPCA\n",
      "\n",
      "ShimmerPCA includes 162 nan, I'll insert mean values\n"
     ]
    }
   ],
   "source": [
    "for i, col in enumerate(df.iloc[:,4:].columns):\n",
    "    print(i)\n",
    "    print(col)\n",
    "    if np.isnan(df[col]).any():\n",
    "        print()\n",
    "        print('{} includes {} nan, I\\'ll insert mean values'.format(col,df[col].isna().sum())) #removing the \"nan\" values\n",
    "        df[col] = df[col].fillna(df[col].mean())\n",
    "        \n"
   ]
  },
  {
   "cell_type": "code",
   "execution_count": 16,
   "id": "b7556687",
   "metadata": {},
   "outputs": [],
   "source": [
    "#df.duration"
   ]
  },
  {
   "cell_type": "markdown",
   "id": "8d964273",
   "metadata": {},
   "source": [
    "**-Make a t-SNE plot** - A t-SNE plot is a very useful visualization, as it condenses the feature space into two dimensions (so it can be plotted) and then uses colors to represent the class membership. In this case, it plots the correlation between the valence (different colors) with all the other characteristics of the voice, in a 2-dimensional space. We notice a big correlation of all these in the area around [4,0]."
   ]
  },
  {
   "cell_type": "code",
   "execution_count": 17,
   "id": "e0bd85ff",
   "metadata": {},
   "outputs": [
    {
     "name": "stderr",
     "output_type": "stream",
     "text": [
      "c:\\users\\user\\s_sprechstile\\s_sprechstile\\lib\\site-packages\\seaborn\\axisgrid.py:316: UserWarning: The `size` parameter has been renamed to `height`; please update your code.\n",
      "  warnings.warn(msg, UserWarning)\n"
     ]
    },
    {
     "data": {
      "image/png": "[encoded data removed]",
      "text/plain": [
       "<Figure size 483.875x432 with 1 Axes>"
      ]
     },
     "metadata": {
      "needs_background": "light"
     },
     "output_type": "display_data"
    }
   ],
   "source": [
    "# Plot a TSNE\n",
    "def plotTsne(feats, labels, perplexity=30, learning_rate=200):\n",
    "    model = TSNE(n_components=2, random_state=0, perplexity=perplexity, learning_rate=learning_rate)\n",
    "    tsne_data = model.fit_transform(feats)\n",
    "    tsne_data_labs = np.vstack((tsne_data.T, labels)).T\n",
    "    tsne_df = pd.DataFrame(data=tsne_data_labs, columns=('Dim_1', 'Dim_2', 'label'))\n",
    "    sns.FacetGrid(tsne_df, hue='label', size=6).map(plt.scatter, 'Dim_1', 'Dim_2').add_legend()\n",
    "    plt.show()\n",
    "    \n",
    "plotTsne(df.iloc[:,4:], df['valence'], 60, 200)"
   ]
  },
  {
   "cell_type": "code",
   "execution_count": null,
   "id": "6d234f12",
   "metadata": {},
   "outputs": [],
   "source": []
  }
 ],
 "metadata": {
  "kernelspec": {
   "display_name": "Python 3",
   "language": "python",
   "name": "python3"
  },
  "language_info": {
   "codemirror_mode": {
    "name": "ipython",
    "version": 3
   },
   "file_extension": ".py",
   "mimetype": "text/x-python",
   "name": "python",
   "nbconvert_exporter": "python",
   "pygments_lexer": "ipython3",
   "version": "3.9.4"
  }
 },
 "nbformat": 4,
 "nbformat_minor": 5
}
